{
 "cells": [
  {
   "cell_type": "markdown",
   "id": "7d6df28d-f622-49d1-9b72-f6a0efcbda4c",
   "metadata": {},
   "source": [
    "# My Data Science Notebook"
   ]
  },
  {
   "cell_type": "markdown",
   "id": "61519fc4-093c-4c59-855e-fa54b8088ac7",
   "metadata": {},
   "source": [
    "## Introduction\n",
    "\n",
    "Welcome to my Data Science Notebook. In this notebook, I will explore various data science concepts and tools. Let's dive in!"
   ]
  },
  {
   "cell_type": "markdown",
   "id": "cd9bdf66-d06e-43a3-8b0c-2326a1d43e91",
   "metadata": {},
   "source": [
    "## Data Science Languages\n",
    "\n",
    "- Python\n",
    "- R\n",
    "- Julia"
   ]
  },
  {
   "cell_type": "markdown",
   "id": "860af23d-f8ca-4dc3-a987-14818309a185",
   "metadata": {},
   "source": [
    "## Data Science Libraries\n",
    "\n",
    "- NumPy\n",
    "- Pandas\n",
    "- Matplotlib\n",
    "- Seaborn\n",
    "- Scikit-Learn\n",
    "- TensorFlow\n",
    "- PyTorch"
   ]
  },
  {
   "cell_type": "markdown",
   "id": "8464335b-4df6-45dd-a788-7e55d5ed8315",
   "metadata": {},
   "source": [
    "## Data Science Tools\n",
    "\n",
    "| Tool          | Description                        |\n",
    "|---------------|------------------------------------|\n",
    "| Jupyter       | Interactive computing environment  |\n",
    "| VS Code       | Code editor with data science plugins |\n",
    "| Git           | Version control system             |\n",
    "| Tableau       | Data visualization tool            |\n",
    "| Excel         | Spreadsheet software for data analysis |"
   ]
  },
  {
   "cell_type": "markdown",
   "id": "4d50af2e-9cd6-4bec-be35-bc90e6940988",
   "metadata": {},
   "source": [
    "## Arithmetic Expressions\n",
    "\n",
    "In this section, we will explore some basic arithmetic expressions to understand mathematical operations in data science."
   ]
  },
  {
   "cell_type": "code",
   "execution_count": 9,
   "id": "9bd9b0a1-0d85-40ca-9224-a9eb87206985",
   "metadata": {
    "tags": []
   },
   "outputs": [
    {
     "data": {
      "text/plain": [
       "18"
      ]
     },
     "execution_count": 9,
     "metadata": {},
     "output_type": "execute_result"
    }
   ],
   "source": [
    "# Multiplication and sum\n",
    "result_multiply_sum = 5 * 3 + 3\n",
    "result_multiply_sum"
   ]
  },
  {
   "cell_type": "code",
   "execution_count": 10,
   "id": "da46bf25-e2a7-4c81-85d4-dc5f383203ff",
   "metadata": {
    "tags": []
   },
   "outputs": [
    {
     "data": {
      "text/plain": [
       "2.0"
      ]
     },
     "execution_count": 10,
     "metadata": {},
     "output_type": "execute_result"
    }
   ],
   "source": [
    "# Convert minutes to hours\n",
    "minutes = 120\n",
    "hours = minutes / 60\n",
    "hours"
   ]
  },
  {
   "cell_type": "markdown",
   "id": "2789946c-8d36-4446-9c53-99178c9eb072",
   "metadata": {},
   "source": [
    "## Objectives\n",
    "\n",
    "In this notebook, we aim to achieve the following objectives:\n",
    "\n",
    "1. Explore data science languages and libraries.\n",
    "2. Understand basic arithmetic operations.\n",
    "3. Learn how to convert units (minutes to hours).\n",
    "4. Share the notebook on GitHub."
   ]
  },
  {
   "cell_type": "markdown",
   "id": "1e2bd586-0481-497e-85bb-8e09875e8357",
   "metadata": {},
   "source": [
    "## Author\n",
    "\n",
    "Author: [MARIO PEREZ JERONIMO]"
   ]
  }
 ],
 "metadata": {
  "kernelspec": {
   "display_name": "Python",
   "language": "python",
   "name": "conda-env-python-py"
  },
  "language_info": {
   "codemirror_mode": {
    "name": "ipython",
    "version": 3
   },
   "file_extension": ".py",
   "mimetype": "text/x-python",
   "name": "python",
   "nbconvert_exporter": "python",
   "pygments_lexer": "ipython3",
   "version": "3.7.12"
  }
 },
 "nbformat": 4,
 "nbformat_minor": 5
}
